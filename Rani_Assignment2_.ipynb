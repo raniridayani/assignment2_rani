{
  "nbformat": 4,
  "nbformat_minor": 0,
  "metadata": {
    "colab": {
      "provenance": []
    },
    "kernelspec": {
      "name": "python3",
      "display_name": "Python 3"
    },
    "language_info": {
      "name": "python"
    }
  },
  "cells": [
    {
      "cell_type": "markdown",
      "source": [
        "Assignment 2\n"
      ],
      "metadata": {
        "id": "dVcxtYya9Qo4"
      }
    },
    {
      "cell_type": "code",
      "source": [
        "def value_position(num):\n",
        "    pos = num[0]\n",
        "    if pos >= len(num) or pos < 1:\n",
        "        return -1\n",
        "    return num [pos+1]"
      ],
      "metadata": {
        "id": "pIhYnvU49ulr"
      },
      "execution_count": 1,
      "outputs": []
    },
    {
      "cell_type": "code",
      "source": [
        "print(value_position((3, 10, 20, 30, 40)))\n",
        "print(value_position((0, -10, 10)))\n",
        "print(value_position((1, 2, 300, 10)))\n",
        "print(value_position((100, 200, 300, -400)))\n",
        "print(value_position((4, 200, 300, -400)))"
      ],
      "metadata": {
        "colab": {
          "base_uri": "https://localhost:8080/"
        },
        "id": "JiVDxdHJ94MZ",
        "outputId": "66d25f68-0e60-4e88-af87-cd03a34e5f86"
      },
      "execution_count": 2,
      "outputs": [
        {
          "output_type": "stream",
          "name": "stdout",
          "text": [
            "40\n",
            "-1\n",
            "300\n",
            "-1\n",
            "-1\n"
          ]
        }
      ]
    },
    {
      "cell_type": "code",
      "source": [
        "import Rumus as FML\n",
        "\n",
        "print(FML.luas_segitiga(10,10))\n",
        "print(FML.keliling_segitiga(10,2,5))"
      ],
      "metadata": {
        "colab": {
          "base_uri": "https://localhost:8080/"
        },
        "id": "Y06NdyKF-BwM",
        "outputId": "048dd35c-8d98-4fe4-a147-645f425f0373"
      },
      "execution_count": 3,
      "outputs": [
        {
          "output_type": "stream",
          "name": "stdout",
          "text": [
            "50.0\n",
            "17\n"
          ]
        }
      ]
    }
  ]
}